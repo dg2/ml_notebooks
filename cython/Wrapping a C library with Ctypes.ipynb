{
 "cells": [
  {
   "cell_type": "markdown",
   "metadata": {},
   "source": [
    "Let's wrap Google's `snappy` compression library for fun and profit. Let's inspect the library to see what functions are exposed\n",
    "``` \n",
    "> nm /usr/local/lib/libsnappy.dylib\n",
    "\n",
    "(lots of mangled functions ...)\n",
    "\n",
    "0000000000003476 T _snappy_compress\n",
    "00000000000034ca T _snappy_max_compressed_length\n",
    "00000000000034d4 T _snappy_uncompress\n",
    "0000000000003540 T _snappy_uncompressed_length\n",
    "0000000000003551 T _snappy_validate_compressed_buffer\n",
    "```\n",
    "\n",
    "Let's now look at `/usr/local/include/snappy-c.h` to get the prototype for these functions.\n",
    "\n",
    "``` c\n",
    "\n",
    "snappy_status snappy_compress(const char* input,\n",
    "                              size_t input_length,\n",
    "                              char* compressed,\n",
    "                              size_t* compressed_length);\n",
    "\n",
    "snappy_status snappy_uncompress(const char* compressed,\n",
    "                                size_t compressed_length,\n",
    "                                char* uncompressed,\n",
    "                                size_t* uncompressed_length);\n",
    "                                \n",
    "size_t snappy_max_compressed_length(size_t source_length);\n",
    "\n",
    "snappy_status snappy_uncompressed_length(const char* compressed,\n",
    "                                          size_t compressed_length,\n",
    "                                          size_t* result);\n",
    "\n",
    "snappy_status snappy_validate_compressed_buffer(const char* compressed, size_t compressed_length);\n",
    "```\n",
    "and we also see that `snappy_status` is just a enum with 3 possible values: 0, 1, 2. According to the documentation, the size of the output buffer should be determined using `snappy_max_compressed_length(size_t input_length)`. Similarly, we can get a feel for how the `snappy_uncompress` function works. Let's now wrap them in Python!"
   ]
  },
  {
   "cell_type": "code",
   "execution_count": 9,
   "metadata": {
    "collapsed": false
   },
   "outputs": [],
   "source": [
    "from ctypes import cdll, create_string_buffer, byref, c_int"
   ]
  },
  {
   "cell_type": "markdown",
   "metadata": {},
   "source": [
    "The first step is to import the C functions. This is pretty simple"
   ]
  },
  {
   "cell_type": "code",
   "execution_count": 110,
   "metadata": {
    "collapsed": true
   },
   "outputs": [],
   "source": [
    "lsn = cdll.LoadLibrary(\"libsnappy.dylib\")  # This looks for the library using the system's path for dynamic libraries\n",
    "_snappy_compress = lsn.snappy_compress\n",
    "_snappy_uncompress = lsn.snappy_uncompress\n",
    "_snappy_uncompressed_length = lsn.snappy_uncompressed_length\n",
    "_snappy_validate_compressed_buffer = lsn.snappy_validate_compressed_buffer\n",
    "snappy_max_compressed_length = lsn.snappy_max_compressed_length # This function doesn't require any wrapping\n",
    "SNAPPY_OK = 0"
   ]
  },
  {
   "cell_type": "markdown",
   "metadata": {},
   "source": [
    "Now the interesting part. We should write a convenient wrapper for the C functions. For `snappy_max_compressed_length` we don't even need to do that, as it only takes an int as a parameter, so ctypes can do the required conversion automatically for us. More interestingly, other functions use buffers to store their outputs. We can use `ctypes.create_string_buffer` to create the actual buffers, and `ctypes.byref` to pass a reference to a C type (e.g. `ctypes.c_int`)."
   ]
  },
  {
   "cell_type": "code",
   "execution_count": 109,
   "metadata": {
    "collapsed": false
   },
   "outputs": [],
   "source": [
    "def snappy_compress(input_data):\n",
    "    input_l = len(input_data)\n",
    "    buf_size = snappy_max_compressed_length(input_l)\n",
    "    o_s = c_int(buf_size)\n",
    "    output_buf = create_string_buffer(\"\\000\" * buf_size)\n",
    "    sn_code = _snappy_compress(input_data, input_l, output_buf, byref(o_s))\n",
    "    if sn_code != SNAPPY_OK:\n",
    "        raise Exception(\"Snappy failed with code %i\" % sn_code)\n",
    "    # After the call to the C function, `output_buf` contains the\n",
    "    # compressed data and `o_s` the compressed length.\n",
    "    # Let's return only the used portion of the output buffer. \n",
    "    return output_buf[:o_s.value]\n",
    "                                      \n",
    "def snappy_uncompressed_length(compressed):\n",
    "    out = c_int()\n",
    "    _snappy_uncompressed_length(compressed, len(compressed), byref(out))\n",
    "    return out.value\n",
    "\n",
    "def snappy_uncompress(compressed):\n",
    "    compressed_l = len(compressed)\n",
    "    buf_size = snappy_uncompressed_length(compressed)\n",
    "    out_buf = create_string_buffer(\"\\000\" * buf_size)\n",
    "    out_l = c_int(buf_size)\n",
    "    sn_code = _snappy_uncompress(compressed, compressed_l, out_buf, byref(out_l))\n",
    "    if sn_code != SNAPPY_OK:\n",
    "        raise Exception(\"Snappy failed with code %i\" % sn_code)\n",
    "    return out_buf[:out_l.value]\n",
    "    \n",
    "def snappy_validate_compressed_buffer(compressed):\n",
    "    out = _snappy_validate_compressed_buffer(compressed, len(compressed))\n",
    "    return out"
   ]
  },
  {
   "cell_type": "markdown",
   "metadata": {},
   "source": [
    "Let's now use this functions to compress and decompress a file"
   ]
  },
  {
   "cell_type": "code",
   "execution_count": 105,
   "metadata": {
    "collapsed": false
   },
   "outputs": [
    {
     "name": "stdout",
     "output_type": "stream",
     "text": [
      "Original length: 6851\n",
      "Compressed length: 3544\n"
     ]
    }
   ],
   "source": [
    "s = open(\"/Users/dario/.vimrc\").read()\n",
    "print \"Original length: %i\" % len(s)\n",
    "compressed = snappy_compress(s)\n",
    "print \"Compressed length: %i\" % len(compressed)"
   ]
  },
  {
   "cell_type": "code",
   "execution_count": 106,
   "metadata": {
    "collapsed": false
   },
   "outputs": [],
   "source": [
    "rec = snappy_uncompress(compressed)"
   ]
  },
  {
   "cell_type": "code",
   "execution_count": 107,
   "metadata": {
    "collapsed": false
   },
   "outputs": [
    {
     "name": "stdout",
     "output_type": "stream",
     "text": [
      "6851\n"
     ]
    }
   ],
   "source": [
    "print len(rec)"
   ]
  },
  {
   "cell_type": "code",
   "execution_count": 108,
   "metadata": {
    "collapsed": false
   },
   "outputs": [
    {
     "name": "stdout",
     "output_type": "stream",
     "text": [
      "syntax on\n",
      "filetype indent plugin on\n",
      "\" set background=light\n",
      "let backgroundEnv=$BACKGROUND\n",
      "if backgroundEnv == 'light'\n",
      "    set background=light\n",
      "else\n",
      "    set background=dark\n",
      "endif\n",
      "\n",
      "\" Add support for Pig syntax\n",
      "augroup filetypedetect\n",
      " au BufNewFile,BufRead *.pig set filetype=pig syntax=pig\n",
      "augroup END\n",
      "\n",
      "\" Interpret Hive files as SQL\n",
      "au BufNewFile,BufRead *.hql set filetype=sql\n",
      "\n",
      "\" Markdown\n",
      "\" Don't fold\n",
      "set nofoldenable\n",
      "\n",
      "execute pathogen#infect()\n",
      "\n",
      "let mapleader = \",\"\n",
      "let g:mapleader = \",\"\n",
      "\n",
      "set so=7\n",
      "set number\n",
      "\n",
      "set wildmenu\n",
      "set wildignore=*.o,*.pyc,*~\n",
      "\n",
      "set ruler\n",
      "\n",
      "set cmdheight=2\n",
      "\n",
      "set backspace=eol,start,indent\n",
      "set whichwrap+=<,>,h,l\n",
      "\n",
      "set hlsearch\n",
      "set incsearch\n",
      "\n",
      "set lazyredraw\n",
      "\n",
      "set magic\n",
      "set noerrorbells\n",
      "set t_vb=\n",
      "set tm=500\n",
      "\n",
      "set expandtab\n",
      "set smarttab\n",
      "set tabstop=4\n",
      "set shiftwidth=4\n",
      "\n",
      "set autochdir\n",
      "\n",
      "\" Slime\n",
      "let g:slime_target = \"tmux\"\n",
      "\n",
      "\" Tell ctrl+p to use git ls-files on git repos\n",
      "\" let g:ctrlp_user_command = ['.git/', 'git --git-dir=%s/.git ls-files -oc --exclude-standard']\n",
      "\" The Silver Searcher\n",
      "if executable('ag')\n",
      "    \" Use ag over grep\n",
      "    set grepprg=ag\\ --nogroup\\ --nocolor\n",
      "       \" Use ag in CtrlP for listing files. Lightning fast and respects\n",
      "       \" .gitignore\n",
      "         let g:ctrlp_user_command = 'ag %s -l --nocolor -g \"\"'\n",
      "\n",
      "  \" ag is fast enough that CtrlP doesn't need to cache\n",
      "     let g:ctrlp_use_caching = 0\n",
      " endif\n",
      "\" Jedi stuff\n",
      "let g:jedi#use_tabs_not_buffers = 0\n",
      "let g:jedi#use_splits_not_buffers = \"left\"\n",
      "let g:jedi#popup_on_dot = 0\n",
      "\n",
      "\" Configure python-mode to play nice with Jedi\n",
      "let g:pymode_rope = 0\n",
      "let g:pymode_folding = 0\n",
      "\n",
      "\" Let supertab decide the default completion type\n",
      "let g:SuperTabDefaultCompletionType = \"context\"\n",
      "\n",
      "\" Buffer navigation using Ctrl+Tab\n",
      "let g:miniBufExplMapCTabSwitchBufs = 1 \n",
      "let g:miniBufExplModSelTarget = 1\n",
      "\n",
      "\" DEPRECATED: I now use Tagbar instead of Taglist\n",
      "\" Close vim if the only open window is the Typetags window\n",
      "\"let Tlist_Exit_OnlyWindow = 1\n",
      "\" Fast access to TlistToggle\n",
      "\"map <silent> <leader>t :TlistToggle<CR>\n",
      "\n",
      "\" User 256 (mostly for airline statusline)\n",
      "set t_Co=256\n",
      "\" Colorscheme\n",
      "\" colorscheme slate\n",
      "\"set background=dark\n",
      "let g:solarized_termtrans = 1\n",
      "\" let g:solarized_termcolors=16\n",
      "colorscheme solarized\n",
      "\n",
      "\" Emacs style bindings\n",
      "imap <C-a> <esc>^i\n",
      "imap <C-e> <esc>$A\n",
      "imap <C-k> <esc>d$i\n",
      "nmap <C-a> ^\n",
      "nmap <C-e> $\n",
      "nmap <C-k> d$\n",
      "\n",
      "\" Key bindings for moving between windows\n",
      "map <C-j> <C-W>j\n",
      "map <C-k> <C-W>k\n",
      "map <C-h> <C-W>h\n",
      "map <C-l> <C-W>l\n",
      "\"map <C-Tab> :bnext<cr>\n",
      "\"map <C-S-Tab> :bprevious<cr>\n",
      "\n",
      "nmap <leader>te :tabedit <c-r>=expand(\"%:p:h\")<cr>\n",
      "\n",
      "\" Fast access to NERDTree\n",
      "nmap <silent> <leader>t :NERDTreeToggle<CR>\n",
      "\n",
      "\" Haskell\n",
      "au FileType haskell nnoremap <buffer> <silent> <leader>ht :HdevtoolsType<CR>\n",
      "au FileType haskell nnoremap <buffer> <silent> <F2> :HdevtoolsClear<CR>\n",
      "au FileType haskell nnoremap <buffer> <silent> <leader>hi :HdevtoolsInfo<CR>\n",
      "au Bufenter *.hs compiler ghc\n",
      "setlocal omnifunc=necoghc#omnifunc\n",
      "\"nmap <silent> <leader>ht :GhcModType<CR>\n",
      "\"nmap <silent> <leader>hT :GhcModTypeInsert<CR>\n",
      "\"nmap <silent> <leader>he :GhcModExpand<CR>\n",
      "\"nmap <silent> <leader>hc :GhcModCheck<CR>\n",
      "\"nmap <silent> <leader>hl :GhcModLint<CR>\n",
      "nmap <silent> <leader>hh :Hoogle\n",
      "nmap <silent> <leader>ha :HoogleInfo<CR>\n",
      "let g:haddock_browser = \"open\"\n",
      "let g:haddock_browser_callformat = \"%s %s\"\n",
      "\n",
      "\" Status line stuff\n",
      "\" Note that the status line is overridden if we use airline\n",
      "set laststatus=2\n",
      "\n",
      "\" Don't let airline to the trailing whitespace / mixed indent analysis\n",
      "let g:airline#extensions#whitespace#enabled = 0\n",
      "\" Configure the row / column part of the status line so that we don't show \n",
      "\" percentages \n",
      "let g:airline_section_y = '%{fugitive#statusline()}'\n",
      "let g:airline_section_z = '%=%l/%L,%c'\n",
      "\" Syntactic\n",
      "let g:syntastic_python_checkers = ['flake8', 'python']\n",
      "\"let g:syntastic_scala_checkers = ['scalac','fsc']\n",
      "let g:syntastic_scala_checkers = ['scalac']\n",
      "let g:syntastic_cpp_compiler_options = '-std=c++11'\n",
      "\" Ignore E501 -> Lines should be no more than 79 characters long\n",
      "let g:syntastic_python_flake8_args = '--ignore=E501' \n",
      "\" YouCompleteMe\n",
      "let g:ycm_path_to_python_interpreter = '/usr/local/bin/python'\n",
      "let g:ycm_semantic_triggers = {'haskell' : ['.']}\n",
      "\" Set the following to 0 to Prevent continous completion\n",
      "let g:ycm_auto_trigger = 1\n",
      "let g:ycm_filetype_whitelist = { 'c': 1, 'cpp': 1, 'java': 1, 'js': 1, 'scala':1, 'hs':1}\n",
      "\" let g:ycm_filetype_whitelist = { 'c': 1, 'cpp': 1, 'py': 1, 'java': 1, 'js': 1}\n",
      "\n",
      "\"Tagbar\n",
      "let g:tagbar_ctags_bin='/usr/local/bin/ctags'\n",
      "set tags=tags;/\n",
      "noremap <silent> <leader>y :TagbarToggle<CR>\n",
      "\n",
      "\" Conqueterm\n",
      "let g:ConqueTerm_InsertOnEnter = 1\n",
      "\" let g:ConqueTerm_SendVisKey = '<C-s>'\n",
      "\n",
      "\" Bind K to grep word under cursor\n",
      "command -nargs=+ Ggr execute 'silent Ggrep!' <q-args> | cw | redraw!\n",
      "\"nnoremap <C-g> :grep! \"\\b<C-R><C-W>\\b\"<CR>:cw<CR>\n",
      "nnoremap <C-g> :Ggr! \"\\b<C-R><C-W>\\b\"<CR>:cw<CR>\n",
      "\n",
      "\" Slime\n",
      "let g:slime_target = \"tmux\"\n",
      "\n",
      "\" Dash integration\n",
      ":nmap <silent> <leader>d <Plug>DashSearch\n",
      "\n",
      "let g:dash_map = { 'scala': ['scalaz', 'scaladoc', 'akka'] }\n",
      "\n",
      "\" EClim\n",
      "nnoremap <silent> <buffer> <leader>i :JavaImport<cr>\n",
      "nnoremap <silent> <buffer> <leader>d :JavaDocSearch<cr>\n",
      "nnoremap <silent> <buffer> <cr> :JavaSearchContext<cr>\n",
      "let g:EclimCompletionMethod = 'omnifunc'\n",
      "\" Remember that EClim autompletion is invoked with <C-x><C-u>\n",
      "\n",
      "\" Rust\n",
      "set hidden \" So that we don't need to save the file before jumping to definitions\n",
      "\"let g:racer_cmd = \"<path-to-racer>/target/release/racer\"\n",
      "let $RUST_SRC_PATH=\"/Users/dario/opt/rust/src/\"\n",
      "\u0000\u0000\u0000\u0000\u0000\u0000\u0000\u0000\u0000\u0000\u0000\u0000\u0000\u0000\u0000\u0000\u0000\u0000\u0000\u0000\u0000\u0000\u0000\u0000\u0000\u0000\u0000\u0000\u0000\u0000\u0000\u0000\u0000\u0000\u0000\u0000\u0000\u0000\u0000\u0000\u0000\u0000\u0000\u0000\u0000\u0000\u0000\u0000\u0000\u0000\u0000\u0000\u0000\u0000\u0000\u0000\u0000\u0000\u0000\u0000\u0000\u0000\u0000\u0000\u0000\u0000\u0000\u0000\u0000\u0000\u0000\u0000\u0000\u0000\u0000\u0000\u0000\u0000\u0000\u0000\u0000\u0000\u0000\u0000\u0000\u0000\u0000\u0000\u0000\u0000\u0000\u0000\u0000\u0000\u0000\u0000\u0000\u0000\u0000\u0000\u0000\u0000\u0000\u0000\u0000\u0000\u0000\u0000\u0000\u0000\u0000\u0000\u0000\u0000\u0000\u0000\u0000\u0000\u0000\u0000\u0000\u0000\u0000\u0000\u0000\u0000\u0000\u0000\u0000\u0000\u0000\u0000\u0000\u0000\u0000\u0000\u0000\u0000\u0000\u0000\u0000\u0000\u0000\u0000\u0000\u0000\u0000\u0000\u0000\u0000\u0000\u0000\u0000\u0000\u0000\u0000\u0000\u0000\u0000\u0000\u0000\u0000\u0000\u0000\u0000\u0000\u0000\u0000\u0000\u0000\u0000\u0000\u0000\u0000\u0000\u0000\u0000\u0000\u0000\u0000\u0000\u0000\u0000\u0000\u0000\u0000\u0000\u0000\u0000\u0000\u0000\u0000\u0000\u0000\u0000\u0000\u0000\u0000\u0000\u0000\u0000\u0000\u0000\u0000\u0000\u0000\u0000\u0000\u0000\u0000\u0000\u0000\u0000\u0000\u0000\u0000\u0000\u0000\u0000\u0000\u0000\u0000\u0000\u0000\u0000\u0000\u0000\u0000\u0000\u0000\u0000\u0000\u0000\u0000\u0000\u0000\u0000\u0000\u0000\u0000\u0000\u0000\u0000\u0000\u0000\u0000\u0000\u0000\u0000\u0000\u0000\u0000\u0000\u0000\u0000\u0000\u0000\u0000\u0000\u0000\u0000\u0000\u0000\u0000\u0000\u0000\u0000\u0000\u0000\u0000\u0000\u0000\u0000\u0000\u0000\u0000\u0000\u0000\u0000\u0000\u0000\u0000\u0000\u0000\u0000\u0000\u0000\u0000\u0000\u0000\u0000\u0000\u0000\u0000\u0000\u0000\u0000\u0000\u0000\u0000\u0000\u0000\u0000\u0000\u0000\u0000\u0000\u0000\u0000\u0000\u0000\u0000\u0000\u0000\u0000\u0000\u0000\u0000\u0000\u0000\u0000\u0000\u0000\u0000\u0000\u0000\u0000\u0000\u0000\u0000\u0000\u0000\u0000\u0000\u0000\u0000\u0000\u0000\u0000\u0000\u0000\u0000\u0000\u0000\u0000\u0000\u0000\u0000\u0000\u0000\u0000\u0000\u0000\u0000\u0000\u0000\u0000\u0000\u0000\u0000\u0000\u0000\u0000\u0000\u0000\u0000\u0000\u0000\u0000\u0000\u0000\u0000\u0000\u0000\u0000\u0000\u0000\u0000\u0000\u0000\u0000\u0000\u0000\u0000\u0000\u0000\u0000\u0000\u0000\u0000\u0000\u0000\u0000\u0000\u0000\u0000\u0000\u0000\u0000\u0000\u0000\u0000\u0000\u0000\u0000\u0000\u0000\u0000\u0000\u0000\u0000\u0000\u0000\u0000\u0000\u0000\u0000\u0000\u0000\u0000\u0000\u0000\u0000\u0000\u0000\u0000\u0000\u0000\u0000\u0000\u0000\u0000\u0000\u0000\u0000\u0000\u0000\u0000\u0000\u0000\u0000\u0000\u0000\u0000\u0000\u0000\u0000\u0000\u0000\u0000\u0000\u0000\u0000\u0000\u0000\u0000\u0000\u0000\u0000\u0000\u0000\u0000\u0000\u0000\u0000\u0000\u0000\u0000\u0000\u0000\u0000\u0000\u0000\u0000\u0000\u0000\u0000\u0000\u0000\u0000\u0000\u0000\u0000\u0000\u0000\u0000\u0000\u0000\u0000\u0000\u0000\u0000\u0000\u0000\u0000\u0000\u0000\u0000\u0000\u0000\u0000\u0000\u0000\u0000\u0000\u0000\u0000\u0000\u0000\u0000\u0000\u0000\u0000\u0000\u0000\u0000\u0000\u0000\u0000\u0000\u0000\u0000\u0000\u0000\u0000\u0000\u0000\u0000\u0000\u0000\u0000\u0000\u0000\u0000\u0000\u0000\u0000\u0000\u0000\u0000\u0000\u0000\u0000\u0000\u0000\u0000\u0000\u0000\u0000\u0000\u0000\u0000\u0000\u0000\u0000\u0000\u0000\u0000\u0000\u0000\u0000\u0000\u0000\u0000\u0000\u0000\u0000\u0000\u0000\u0000\u0000\u0000\u0000\u0000\u0000\u0000\u0000\u0000\u0000\u0000\u0000\u0000\u0000\u0000\u0000\u0000\u0000\u0000\u0000\u0000\u0000\u0000\u0000\u0000\u0000\u0000\u0000\u0000\u0000\u0000\u0000\u0000\u0000\u0000\u0000\u0000\u0000\u0000\u0000\u0000\u0000\u0000\u0000\u0000\u0000\u0000\u0000\u0000\u0000\u0000\u0000\u0000\u0000\u0000\u0000\u0000\u0000\u0000\u0000\u0000\u0000\u0000\u0000\u0000\u0000\u0000\u0000\u0000\u0000\u0000\u0000\u0000\u0000\u0000\u0000\u0000\u0000\u0000\u0000\u0000\u0000\u0000\u0000\u0000\u0000\u0000\u0000\u0000\u0000\u0000\u0000\u0000\u0000\u0000\u0000\u0000\u0000\u0000\u0000\u0000\u0000\u0000\u0000\u0000\u0000\u0000\u0000\u0000\u0000\u0000\u0000\u0000\u0000\u0000\u0000\u0000\u0000\u0000\u0000\u0000\u0000\u0000\u0000\u0000\u0000\u0000\u0000\u0000\u0000\u0000\u0000\u0000\u0000\u0000\u0000\u0000\u0000\u0000\u0000\u0000\u0000\u0000\u0000\u0000\u0000\u0000\u0000\u0000\u0000\u0000\u0000\u0000\u0000\u0000\u0000\u0000\u0000\u0000\u0000\u0000\u0000\u0000\u0000\u0000\u0000\u0000\u0000\u0000\u0000\u0000\u0000\u0000\u0000\u0000\u0000\u0000\u0000\u0000\u0000\u0000\u0000\u0000\u0000\u0000\u0000\u0000\u0000\u0000\u0000\u0000\u0000\u0000\u0000\u0000\u0000\u0000\u0000\u0000\u0000\u0000\u0000\u0000\u0000\u0000\u0000\u0000\u0000\u0000\u0000\u0000\u0000\u0000\u0000\u0000\u0000\u0000\u0000\u0000\u0000\u0000\u0000\u0000\u0000\u0000\u0000\u0000\u0000\u0000\u0000\u0000\u0000\u0000\u0000\u0000\u0000\u0000\u0000\u0000\u0000\u0000\u0000\u0000\u0000\u0000\u0000\u0000\u0000\u0000\u0000\u0000\u0000\u0000\u0000\u0000\u0000\u0000\u0000\u0000\u0000\u0000\u0000\u0000\u0000\u0000\u0000\u0000\u0000\u0000\u0000\u0000\u0000\u0000\u0000\u0000\u0000\u0000\u0000\u0000\u0000\u0000\u0000\u0000\u0000\u0000\u0000\u0000\u0000\u0000\u0000\u0000\u0000\u0000\u0000\u0000\u0000\u0000\u0000\u0000\u0000\u0000\u0000\u0000\u0000\u0000\u0000\u0000\u0000\u0000\u0000\u0000\u0000\u0000\u0000\u0000\u0000\u0000\u0000\u0000\u0000\u0000\u0000\u0000\u0000\u0000\u0000\u0000\u0000\u0000\u0000\u0000\u0000\u0000\u0000\u0000\u0000\u0000\u0000\u0000\u0000\u0000\u0000\u0000\u0000\u0000\u0000\u0000\u0000\u0000\u0000\u0000\u0000\u0000\u0000\u0000\u0000\u0000\u0000\u0000\u0000\u0000\u0000\u0000\u0000\u0000\u0000\u0000\u0000\u0000\u0000\u0000\u0000\u0000\u0000\u0000\u0000\u0000\u0000\u0000\u0000\u0000\u0000\u0000\u0000\u0000\u0000\u0000\u0000\u0000\u0000\u0000\u0000\u0000\u0000\u0000\u0000\u0000\u0000\u0000\u0000\u0000\u0000\u0000\u0000\u0000\u0000\u0000\u0000\u0000\u0000\u0000\u0000\u0000\u0000\u0000\u0000\u0000\u0000\u0000\u0000\u0000\u0000\u0000\u0000\u0000\u0000\u0000\u0000\u0000\u0000\u0000\u0000\u0000\u0000\u0000\u0000\u0000\u0000\u0000\u0000\u0000\u0000\u0000\u0000\u0000\u0000\u0000\u0000\u0000\u0000\u0000\u0000\u0000\u0000\u0000\u0000\u0000\u0000\u0000\u0000\u0000\u0000\u0000\u0000\u0000\u0000\u0000\u0000\u0000\u0000\u0000\u0000\u0000\u0000\u0000\u0000\u0000\u0000\u0000\u0000\u0000\u0000\u0000\u0000\u0000\u0000\u0000\u0000\u0000\u0000\u0000\u0000\u0000\u0000\u0000\u0000\u0000\u0000\u0000\u0000\u0000\u0000\u0000\u0000\u0000\u0000\u0000\u0000\u0000\u0000\u0000\u0000\u0000\u0000\u0000\u0000\u0000\u0000\u0000\u0000\u0000\u0000\u0000\u0000\u0000\u0000\u0000\u0000\u0000\u0000\u0000\u0000\u0000\u0000\u0000\u0000\u0000\u0000\u0000\u0000\u0000\u0000\u0000\u0000\u0000\u0000\u0000\u0000\u0000\u0000\u0000\u0000\u0000\u0000\u0000\u0000\u0000\u0000\u0000\u0000\u0000\u0000\u0000\u0000\u0000\u0000\u0000\u0000\u0000\u0000\u0000\u0000\u0000\u0000\u0000\u0000\u0000\u0000\u0000\u0000\u0000\u0000\u0000\u0000\u0000\u0000\u0000\u0000\u0000\u0000\u0000\u0000\u0000\u0000\u0000\u0000\u0000\u0000\u0000\u0000\u0000\u0000\u0000\u0000\u0000\u0000\u0000\u0000\u0000\u0000\u0000\u0000\u0000\u0000\u0000\u0000\u0000\u0000\u0000\u0000\u0000\u0000\u0000\u0000\u0000\u0000\u0000\u0000\u0000\u0000\u0000\u0000\u0000\u0000\u0000\u0000\u0000\u0000\u0000\u0000\u0000\u0000\u0000\u0000\u0000\u0000\u0000\u0000\u0000\u0000\u0000\u0000\u0000\u0000\u0000\u0000\u0000\u0000\u0000\u0000\u0000\u0000\u0000\u0000\u0000\u0000\u0000\u0000\u0000\u0000\u0000\u0000\u0000\u0000\u0000\u0000\u0000\u0000\u0000\u0000\u0000\u0000\u0000\u0000\u0000\u0000\u0000\u0000\u0000\u0000\u0000\u0000\u0000\u0000\u0000\u0000\u0000\u0000\u0000\u0000\u0000\u0000\u0000\u0000\u0000\u0000\u0000\u0000\u0000\u0000\u0000\u0000\u0000\u0000\u0000\u0000\u0000\u0000\u0000\u0000\u0000\u0000\u0000\u0000\u0000\u0000\u0000\u0000\u0000\u0000\u0000\u0000\u0000\u0000\u0000\u0000\u0000\u0000\u0000\u0000\u0000\u0000\u0000\u0000\u0000\u0000\u0000\u0000\u0000\u0000\u0000\u0000\u0000\u0000\u0000\u0000\u0000\u0000\u0000\u0000\u0000\u0000\u0000\u0000\u0000\u0000\u0000\u0000\u0000\u0000\u0000\u0000\u0000\u0000\u0000\u0000\u0000\u0000\u0000\u0000\u0000\u0000\u0000\u0000\u0000\u0000\u0000\u0000\u0000\u0000\u0000\u0000\u0000\u0000\u0000\u0000\u0000\u0000\u0000\u0000\u0000\u0000\u0000\u0000\u0000\u0000\u0000\u0000\u0000\u0000\u0000\u0000\u0000\u0000\u0000\u0000\u0000\u0000\u0000\u0000\u0000\u0000\u0000\u0000\u0000\u0000\u0000\u0000\u0000\u0000\u0000\u0000\u0000\u0000\u0000\u0000\u0000\u0000\u0000\u0000\u0000\u0000\u0000\u0000\u0000\u0000\u0000\u0000\u0000\u0000\u0000\u0000\u0000\u0000\u0000\u0000\u0000\u0000\u0000\u0000\u0000\u0000\u0000\u0000\u0000\u0000\u0000\u0000\u0000\u0000\u0000\n",
      "\n"
     ]
    }
   ],
   "source": [
    "print rec"
   ]
  },
  {
   "cell_type": "code",
   "execution_count": 103,
   "metadata": {
    "collapsed": false
   },
   "outputs": [
    {
     "data": {
      "text/plain": [
       "0"
      ]
     },
     "execution_count": 103,
     "metadata": {},
     "output_type": "execute_result"
    }
   ],
   "source": [
    "snappy_validate_compressed_buffer(compressed)"
   ]
  }
 ],
 "metadata": {
  "kernelspec": {
   "display_name": "Python 2",
   "language": "python",
   "name": "python2"
  },
  "language_info": {
   "codemirror_mode": {
    "name": "ipython",
    "version": 2
   },
   "file_extension": ".py",
   "mimetype": "text/x-python",
   "name": "python",
   "nbconvert_exporter": "python",
   "pygments_lexer": "ipython2",
   "version": "2.7.10"
  }
 },
 "nbformat": 4,
 "nbformat_minor": 0
}
